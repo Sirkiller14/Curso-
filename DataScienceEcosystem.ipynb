{
 "cells": [
  {
   "cell_type": "markdown",
   "id": "6c476b89",
   "metadata": {},
   "source": [
    "# Data Science Tools and Ecosystem"
   ]
  },
  {
   "cell_type": "markdown",
   "id": "54c0b855",
   "metadata": {},
   "source": [
    "In this notebook,Data Science Tools and Ecosystem are summarized"
   ]
  },
  {
   "cell_type": "markdown",
   "id": "69fc6d2d",
   "metadata": {},
   "source": [
    "**Objetives:**\n",
    "* List popular languages for Data Science\n",
    "* List popular libraries for Data Science\n",
    "* List popular Tools Data Science\n",
    "* Arithmetic expression"
   ]
  },
  {
   "cell_type": "markdown",
   "id": "b26f491f",
   "metadata": {},
   "source": [
    "Some of the popular languages that Data Scientists use are:\n",
    "1. Python\n",
    "2. R\n",
    "3. Java\n",
    "4. Scala\n",
    "5. Julia"
   ]
  },
  {
   "cell_type": "markdown",
   "id": "7808aeb9",
   "metadata": {},
   "source": [
    "Some of the commonly used libraries used by Data Scientists include:\n",
    "1. Numpy \n",
    "2. TensorFlow\n",
    "3. Scikit-Learn\n",
    "4. Matplotlib\n",
    "5. Pandas"
   ]
  },
  {
   "cell_type": "markdown",
   "id": "8818f28e",
   "metadata": {},
   "source": [
    "|Data Science Tools|\n",
    "|------------------|\n",
    "|Apache Spark|\n",
    "|IBM SPSS|\n",
    "|Jupyter|\n",
    "|Keras|\n"
   ]
  },
  {
   "cell_type": "markdown",
   "id": "06cdaa34",
   "metadata": {},
   "source": [
    "### Below are a few examples of evaluating arithmetic expressions in Python"
   ]
  },
  {
   "cell_type": "code",
   "execution_count": 3,
   "id": "0541acdc",
   "metadata": {},
   "outputs": [
    {
     "data": {
      "text/plain": [
       "17"
      ]
     },
     "execution_count": 3,
     "metadata": {},
     "output_type": "execute_result"
    }
   ],
   "source": [
    "#This a simple arithmetic expression to mutiply then add integers\n",
    "(3*4)+5"
   ]
  },
  {
   "cell_type": "code",
   "execution_count": 4,
   "id": "705dee0c",
   "metadata": {},
   "outputs": [
    {
     "name": "stdout",
     "output_type": "stream",
     "text": [
      "3.3333333333333335\n"
     ]
    }
   ],
   "source": [
    "#This will convert 200 minutes to hours by diving by 60\n",
    "x=200\n",
    "y=x/60\n",
    "print(y)"
   ]
  },
  {
   "cell_type": "markdown",
   "id": "0555ae2a",
   "metadata": {},
   "source": [
    "## Author \n",
    "Diego Angulo "
   ]
  },
  {
   "cell_type": "code",
   "execution_count": null,
   "id": "03bf4873",
   "metadata": {},
   "outputs": [],
   "source": []
  }
 ],
 "metadata": {
  "kernelspec": {
   "display_name": "Python 3",
   "language": "python",
   "name": "python3"
  },
  "language_info": {
   "codemirror_mode": {
    "name": "ipython",
    "version": 3
   },
   "file_extension": ".py",
   "mimetype": "text/x-python",
   "name": "python",
   "nbconvert_exporter": "python",
   "pygments_lexer": "ipython3",
   "version": "3.8.5"
  }
 },
 "nbformat": 4,
 "nbformat_minor": 5
}
